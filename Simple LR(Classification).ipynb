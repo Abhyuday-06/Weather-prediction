{
 "cells": [
  {
   "cell_type": "code",
   "execution_count": 34,
   "metadata": {},
   "outputs": [],
   "source": [
    "from sklearn import linear_model\n",
    "import matplotlib.pyplot as plt\n",
    "import pandas as pd\n",
    "import numpy as np\n",
    "from sklearn.preprocessing import LabelEncoder\n",
    "import math"
   ]
  },
  {
   "cell_type": "code",
   "execution_count": null,
   "metadata": {},
   "outputs": [
    {
     "name": "stdout",
     "output_type": "stream",
     "text": [
      "\n",
      "\n",
      "    Temperature (C)  Humidity  Visibility (km)  Loud Cover Precip Type  \\\n",
      "0         9.472222      0.89          15.8263         0.0        rain   \n",
      "1         9.355556      0.86          15.8263         0.0        rain   \n",
      "2         9.377778      0.89          14.9569         0.0        rain   \n",
      "3         8.288889      0.83          15.8263         0.0        rain   \n",
      "4         8.755556      0.83          15.8263         0.0        rain   \n",
      "\n",
      "   Wind Speed (km/h)        Summary                      Daily Summary  \n",
      "0            14.1197  Partly Cloudy  Partly cloudy throughout the day.  \n",
      "1            14.2646  Partly Cloudy  Partly cloudy throughout the day.  \n",
      "2             3.9284  Mostly Cloudy  Partly cloudy throughout the day.  \n",
      "3            14.1036  Partly Cloudy  Partly cloudy throughout the day.  \n",
      "4            11.0446  Mostly Cloudy  Partly cloudy throughout the day.  \n"
     ]
    }
   ],
   "source": [
    "# Loading and setting up data\n",
    "# Using 'Summary' instead of 'Daily Summary' as target - it has fewer categories\n",
    "data = pd.read_csv(\"weatherHistory.csv\", sep=\",\")\n",
    "data = data[['Temperature (C)','Humidity','Visibility (km)','Loud Cover','Precip Type','Wind Speed (km/h)','Daily Summary','Summary']]\n",
    "print(\"\\n\\n\",data.head())"
   ]
  },
  {
   "cell_type": "code",
   "execution_count": 36,
   "metadata": {},
   "outputs": [
    {
     "name": "stdout",
     "output_type": "stream",
     "text": [
      "Temperature (C)        0\n",
      "Humidity               0\n",
      "Visibility (km)        0\n",
      "Loud Cover             0\n",
      "Precip Type          517\n",
      "Wind Speed (km/h)      0\n",
      "Summary                0\n",
      "Daily Summary          0\n",
      "dtype: int64\n",
      "Temperature (C)      0\n",
      "Humidity             0\n",
      "Visibility (km)      0\n",
      "Loud Cover           0\n",
      "Precip Type          0\n",
      "Wind Speed (km/h)    0\n",
      "Summary              0\n",
      "Daily Summary        0\n",
      "dtype: int64\n"
     ]
    }
   ],
   "source": [
    "# Checking for null data. If any found, then removing it.\n",
    "print(data.isnull().sum())\n",
    "data = data.dropna()\n",
    "print(data.isnull().sum())"
   ]
  },
  {
   "cell_type": "code",
   "execution_count": null,
   "metadata": {},
   "outputs": [
    {
     "name": "stdout",
     "output_type": "stream",
     "text": [
      "\n",
      "Checking for NaN after encoding:\n",
      "Temperature (C)      0\n",
      "Humidity             0\n",
      "Visibility (km)      0\n",
      "Loud Cover           0\n",
      "Precip Type          0\n",
      "Wind Speed (km/h)    0\n",
      "Summary              0\n",
      "Daily Summary        0\n",
      "dtype: int64\n",
      "\n",
      "After final dropna:\n",
      "Temperature (C)      0\n",
      "Humidity             0\n",
      "Visibility (km)      0\n",
      "Loud Cover           0\n",
      "Precip Type          0\n",
      "Wind Speed (km/h)    0\n",
      "Summary              0\n",
      "Daily Summary        0\n",
      "dtype: int64\n",
      "\n",
      "\n",
      "    Temperature (C)  Humidity  Visibility (km)  Loud Cover  Precip Type  \\\n",
      "0         9.472222      0.89          15.8263         0.0            0   \n",
      "1         9.355556      0.86          15.8263         0.0            0   \n",
      "2         9.377778      0.89          14.9569         0.0            0   \n",
      "3         8.288889      0.83          15.8263         0.0            0   \n",
      "4         8.755556      0.83          15.8263         0.0            0   \n",
      "\n",
      "   Wind Speed (km/h)  Summary  Daily Summary  \n",
      "0            14.1197       19            197  \n",
      "1            14.2646       19            197  \n",
      "2             3.9284       17            197  \n",
      "3            14.1036       19            197  \n",
      "4            11.0446       17            197  \n"
     ]
    }
   ],
   "source": [
    "# Converting textual data to numerical using LabelEncoder\n",
    "# LabelEncoder transforms categorical labels into numbers (0, 1, 2, ...)\n",
    "data['Daily Summary'] = LabelEncoder().fit_transform(data['Daily Summary'])\n",
    "data['Summary'] = LabelEncoder().fit_transform(data['Summary'])\n",
    "data['Precip Type'] = LabelEncoder().fit_transform(data['Precip Type'])\n",
    "\n",
    "# Double-check for any remaining NaN values and remove them\n",
    "print(f\"\\nChecking for NaN after encoding:\")\n",
    "print(data.isnull().sum())\n",
    "data = data.dropna()\n",
    "print(f\"\\nAfter final dropna:\")\n",
    "print(data.isnull().sum())\n",
    "print(f\"Unique Summary classes: {data['Summary'].nunique()}\")\n",
    "\n",
    "print(\"\\n\\n\", data.head())"
   ]
  },
  {
   "cell_type": "code",
   "execution_count": null,
   "metadata": {},
   "outputs": [],
   "source": [
    "# Splitting data in X and y - predicting 'Summary' instead of 'Daily Summary'\n",
    "# Summary has fewer categories (27) making it easier for linear regression\n",
    "X = np.asmatrix(data.drop(['Summary'], axis=1))\n",
    "y = np.asmatrix(data['Summary'])\n",
    "y = np.transpose(y)"
   ]
  },
  {
   "cell_type": "code",
   "execution_count": 39,
   "metadata": {},
   "outputs": [
    {
     "name": "stdout",
     "output_type": "stream",
     "text": [
      "X1 shape: (1000, 7), y1 shape: (1000, 1)\n",
      "Theta shape: (7, 1)\n"
     ]
    }
   ],
   "source": [
    "# Splitting and normalizing the data\n",
    "X1 = X[:1000,:].copy()\n",
    "y1 = y[:1000,:].copy()\n",
    "\n",
    "# Normalizing the data (feature scaling)\n",
    "# Formula: (value - mean) / (max - min)\n",
    "# This ensures all features are on similar scale, helping gradient descent converge faster\n",
    "for i in range(0,7):\n",
    "    col_range = np.max(X1[:,i:i+1]) - np.min(X1[:,i:i+1])\n",
    "    # Avoid division by zero - if all values are same, skip normalization\n",
    "    if col_range != 0:\n",
    "        X1[:,i:i+1] = (X1[:,i:i+1] - np.mean(X1[:,i:i+1])) / col_range\n",
    "    else:\n",
    "        X1[:,i:i+1] = 0  # Set constant columns to 0\n",
    "\n",
    "# Normalize y values too - IMPORTANT for reducing error\n",
    "y1_mean = np.mean(y1)\n",
    "y1_range = np.max(y1) - np.min(y1)\n",
    "y1 = (y1 - y1_mean) / y1_range\n",
    "\n",
    "print(f\"X1 shape: {X1.shape}, y1 shape: {y1.shape}\")\n",
    "\n",
    "# Setting the initial values of theta to zeros for better convergence\n",
    "theta = np.transpose(np.asmatrix([0,0,0,0,0,0,0]))\n",
    "print(f\"Theta shape: {theta.shape}\")"
   ]
  },
  {
   "cell_type": "code",
   "execution_count": 40,
   "metadata": {},
   "outputs": [
    {
     "name": "stdout",
     "output_type": "stream",
     "text": [
      "Final theta:\n",
      "[[ 0.3306453 ]\n",
      " [-0.0900815 ]\n",
      " [ 0.36805146]\n",
      " [ 0.        ]\n",
      " [ 0.        ]\n",
      " [-0.24046981]\n",
      " [-0.04980405]]\n",
      "Final cost: 0.000000\n"
     ]
    }
   ],
   "source": [
    "# Cost function: measures how far predictions are from actual values\n",
    "# Lower cost = better model\n",
    "def CC(X1,y1,theta):\n",
    "    m = len(y1)\n",
    "    prediction = np.dot(X1,theta)\n",
    "    sqrerror = np.dot((prediction - y1),(np.transpose((prediction - y1))))\n",
    "    J = 1/(2*m) * np.sum((sqrerror))\n",
    "    return J\n",
    "\n",
    "# Gradient Descent: iteratively adjusts theta to minimize cost\n",
    "# alpha = learning rate (how big each step is)\n",
    "# The formula updates theta by moving it in the direction that reduces error\n",
    "alpha = 0.5  # Increased learning rate since data is now normalized\n",
    "iterations = 2000\n",
    "\n",
    "def GD(theta, alpha, iterations, X1, y1):\n",
    "    m = len(y1)\n",
    "    GD.J_hist = np.zeros(iterations)\n",
    "    \n",
    "    for i in range(0, iterations):\n",
    "        # Update rule: theta = theta - (learning_rate * gradient)\n",
    "        gradient = np.dot((np.transpose(X1)),((np.dot(X1,theta)) - y1))\n",
    "        theta = theta - ((alpha/m) * gradient)\n",
    "        GD.J_hist[i] = CC(X1,y1,theta)\n",
    "        \n",
    "        # Check for nan and stop if found\n",
    "        if np.isnan(theta).any():\n",
    "            print(f\"NaN detected at iteration {i}\")\n",
    "            break\n",
    "    \n",
    "    print(f\"Final theta:\\n{theta}\")\n",
    "    print(f\"Final cost: {GD.J_hist[i]:.6f}\")\n",
    "    return theta\n",
    "        \n",
    "theta = GD(theta, alpha, iterations, X1, y1)"
   ]
  },
  {
   "cell_type": "code",
   "execution_count": 43,
   "metadata": {},
   "outputs": [
    {
     "name": "stdout",
     "output_type": "stream",
     "text": [
      "Actual: 197, Prediction: 134, Diff: 63\n",
      "Actual: 197, Prediction: 134, Diff: 63\n",
      "Actual: 197, Prediction: 144, Diff: 53\n",
      "Actual: 197, Prediction: 133, Diff: 64\n",
      "Actual: 197, Prediction: 139, Diff: 58\n",
      "Actual: 197, Prediction: 131, Diff: 66\n",
      "Actual: 197, Prediction: 107, Diff: 90\n",
      "Actual: 197, Prediction: 108, Diff: 89\n",
      "Actual: 197, Prediction: 117, Diff: 80\n",
      "Actual: 197, Prediction: 123, Diff: 74\n",
      "\n",
      "RMSE: 49.66\n",
      "Exact Match Accuracy: 0.60%\n",
      "Close Match Accuracy (±5): 5.60%\n",
      "\n",
      "Note: Linear regression isn't ideal for 177 class classification.\n",
      "Consider using Logistic Regression or Neural Networks for better results.\n"
     ]
    }
   ],
   "source": [
    "# Testing on training data\n",
    "# Note: Linear regression for multi-class classification isn't ideal\n",
    "# Better metrics: RMSE and \"close enough\" accuracy (within 5 classes)\n",
    "prediction = []\n",
    "error = []\n",
    "exact_match = 0\n",
    "close_match = 0  # Within 5 classes\n",
    "\n",
    "for i in range(0,1000):\n",
    "    predict = X1[i:i+1,:]\n",
    "    ans_norm = np.dot(predict,theta)\n",
    "    \n",
    "    # Denormalize the prediction back to original scale\n",
    "    ans = (ans_norm.item() * y1_range) + y1_mean\n",
    "    actual = y[i:i+1, :].item()\n",
    "    \n",
    "    pred = round(ans)\n",
    "    actual_int = int(actual)\n",
    "    \n",
    "    if i < 10:  # Print first 10 for verification\n",
    "        print(f\"Actual: {actual_int}, Prediction: {pred}, Diff: {abs(pred - actual_int)}\")\n",
    "    \n",
    "    prediction.append(pred)\n",
    "    error.append((pred - actual_int)**2)\n",
    "    \n",
    "    if pred == actual_int:\n",
    "        exact_match += 1\n",
    "    if abs(pred - actual_int) <= 5:  # Within 5 classes is \"close enough\"\n",
    "        close_match += 1\n",
    "\n",
    "rmse = math.sqrt(sum(error)/len(error))\n",
    "exact_accuracy = (exact_match/len(error)) * 100\n",
    "close_accuracy = (close_match/len(error)) * 100\n",
    "\n",
    "print(f\"\\nRMSE: {rmse:.2f}\")\n",
    "print(f\"Exact Match Accuracy: {exact_accuracy:.2f}%\")\n",
    "print(f\"Close Match Accuracy (±5): {close_accuracy:.2f}%\")\n",
    "print(f\"\\nNote: Linear regression isn't ideal for {int(y1_range)+1} class classification.\")\n",
    "print(\"Consider using Logistic Regression or Neural Networks for better results.\")"
   ]
  },
  {
   "cell_type": "code",
   "execution_count": 42,
   "metadata": {},
   "outputs": [
    {
     "data": {
      "image/png": "[encoded data removed]",
      "text/plain": [
       "<Figure size 640x480 with 1 Axes>"
      ]
     },
     "metadata": {},
     "output_type": "display_data"
    }
   ],
   "source": [
    "# Plotting the cost function convergence\n",
    "plt.xlabel(\"No. of iterations\")\n",
    "plt.ylabel(\"Cost function- J\")\n",
    "plt.plot(GD.J_hist)\n",
    "plt.show()"
   ]
  }
 ],
 "metadata": {
  "kernelspec": {
   "display_name": "base",
   "language": "python",
   "name": "python3"
  },
  "language_info": {
   "codemirror_mode": {
    "name": "ipython",
    "version": 3
   },
   "file_extension": ".py",
   "mimetype": "text/x-python",
   "name": "python",
   "nbconvert_exporter": "python",
   "pygments_lexer": "ipython3",
   "version": "3.13.5"
  }
 },
 "nbformat": 4,
 "nbformat_minor": 4
}
